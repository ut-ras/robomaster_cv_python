{
 "cells": [
  {
   "cell_type": "code",
   "execution_count": 29,
   "metadata": {},
   "outputs": [],
   "source": [
    "import torch\n",
    "import glob\n",
    "from bounding_box import BoundingBox\n",
    "import cv2"
   ]
  },
  {
   "cell_type": "code",
   "execution_count": 2,
   "metadata": {},
   "outputs": [
    {
     "name": "stderr",
     "output_type": "stream",
     "text": [
      "YOLOv5 🚀 2023-2-26 Python-3.10.10 torch-2.0.0+cu117 CUDA:0 (NVIDIA A40, 45494MiB)\n",
      "\n",
      "Fusing layers... \n",
      "Model summary: 267 layers, 46124433 parameters, 0 gradients, 107.7 GFLOPs\n",
      "Adding AutoShape... \n"
     ]
    }
   ],
   "source": [
    "model = torch.hub.load('yolov5', 'custom', \n",
    "    path='./yolov5/runs/train/exp30/weights/best.pt', \n",
    "    source='local')"
   ]
  },
  {
   "cell_type": "code",
   "execution_count": 3,
   "metadata": {},
   "outputs": [
    {
     "data": {
      "text/plain": [
       "['data/output/val/images/7_231.png',\n",
       " 'data/output/val/images/9_28.png',\n",
       " 'data/output/val/images/0_115.png',\n",
       " 'data/output/val/images/6_20.png',\n",
       " 'data/output/val/images/5_117.png']"
      ]
     },
     "execution_count": 3,
     "metadata": {},
     "output_type": "execute_result"
    }
   ],
   "source": [
    "img_paths = glob.glob(\"data/output/val/images/*.png\")\n",
    "img_paths[:5]"
   ]
  },
  {
   "cell_type": "code",
   "execution_count": 25,
   "metadata": {},
   "outputs": [],
   "source": [
    "def getXY(xy):\n",
    "    plates = xy[xy['name'].str.contains(\"Plate\")]\n",
    "    if(len(plates) > 0):\n",
    "        plates = plates.reset_index()\n",
    "        plates[\"xCenter\"] = plates['xmin'] + plates['xmax'] / 2\n",
    "        plates[\"yCenter\"] = plates['ymin'] + plates['ymax'] / 2\n",
    "        plates[\"width\"] = plates['xmax'] - plates['xmin']\n",
    "        plates[\"height\"] = plates['ymax'] - plates['ymin']\n",
    "        return [bbox for bbox in plates.apply(lambda x: BoundingBox(*x[['xCenter', 'yCenter', 'width', 'height']]), axis=1)]\n",
    "    else:\n",
    "        return None"
   ]
  },
  {
   "cell_type": "code",
   "execution_count": 28,
   "metadata": {},
   "outputs": [
    {
     "data": {
      "text/plain": [
       "[Center: (399.1624450683594, 189.15540313720703\n",
       "       \tWidth: 41.681640625 px\n",
       "         Height: 36.69276428222656 px\n",
       "         Initalized at: time.struct_time(tm_year=2023, tm_mon=4, tm_mday=4, tm_hour=14, tm_min=48, tm_sec=48, tm_wday=1, tm_yday=94, tm_isdst=1),\n",
       " Center: (305.9253234863281, 189.3949203491211\n",
       "       \tWidth: 16.13787841796875 px\n",
       "         Height: 30.336288452148438 px\n",
       "         Initalized at: time.struct_time(tm_year=2023, tm_mon=4, tm_mday=4, tm_hour=14, tm_min=48, tm_sec=48, tm_wday=1, tm_yday=94, tm_isdst=1)]"
      ]
     },
     "execution_count": 28,
     "metadata": {},
     "output_type": "execute_result"
    }
   ],
   "source": [
    "bboxes = getXY(model(img_paths[1], size=640).pandas().xyxy[0])\n",
    "bboxes"
   ]
  },
  {
   "cell_type": "code",
   "execution_count": 32,
   "metadata": {},
   "outputs": [
    {
     "name": "stderr",
     "output_type": "stream",
     "text": [
      "[ WARN:0@632.511] global /croot/opencv-suite_1676452025216/work/modules/videoio/src/cap_gstreamer.cpp (862) isPipelinePlaying OpenCV | GStreamer warning: GStreamer: pipeline have not been created\n",
      "[ WARN:0@632.511] global /croot/opencv-suite_1676452025216/work/modules/videoio/src/cap_v4l.cpp (902) open VIDEOIO(V4L2:/dev/video0): can't open camera by index\n"
     ]
    },
    {
     "data": {
      "text/plain": [
       "False"
      ]
     },
     "execution_count": 32,
     "metadata": {},
     "output_type": "execute_result"
    }
   ],
   "source": [
    "cam_feed = cv2.VideoCapture(0)\n",
    "cam_feed.set(cv2.CAP_PROP_FRAME_WIDTH, 640)\n",
    "cam_feed.set(cv2.CAP_PROP_FRAME_HEIGHT, 750)"
   ]
  }
 ],
 "metadata": {
  "kernelspec": {
   "display_name": "Python 3",
   "language": "python",
   "name": "python3"
  },
  "language_info": {
   "codemirror_mode": {
    "name": "ipython",
    "version": 3
   },
   "file_extension": ".py",
   "mimetype": "text/x-python",
   "name": "python",
   "nbconvert_exporter": "python",
   "pygments_lexer": "ipython3",
   "version": "3.10.10"
  },
  "orig_nbformat": 4
 },
 "nbformat": 4,
 "nbformat_minor": 2
}
