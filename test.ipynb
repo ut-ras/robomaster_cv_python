{
 "cells": [
  {
   "cell_type": "code",
   "execution_count": 2,
   "metadata": {},
   "outputs": [],
   "source": [
    "import torch\n",
    "import glob\n",
    "from bounding_box import BoundingBox\n",
    "import cv2"
   ]
  },
  {
   "cell_type": "code",
   "execution_count": 3,
   "metadata": {},
   "outputs": [
    {
     "name": "stderr",
     "output_type": "stream",
     "text": [
      "YOLOv5 🚀 2023-2-26 Python-3.10.10 torch-2.0.0+cu117 CUDA:0 (NVIDIA A40, 45494MiB)\n",
      "\n",
      "Fusing layers... \n",
      "Model summary: 267 layers, 46124433 parameters, 0 gradients, 107.7 GFLOPs\n",
      "Adding AutoShape... \n"
     ]
    }
   ],
   "source": [
    "model = torch.hub.load('yolov5', 'custom', \n",
    "    path='./yolov5/runs/train/exp30/weights/best.pt', \n",
    "    source='local')"
   ]
  },
  {
   "cell_type": "code",
   "execution_count": 4,
   "metadata": {},
   "outputs": [
    {
     "data": {
      "text/plain": [
       "['data/output/val/images/7_231.png',\n",
       " 'data/output/val/images/9_28.png',\n",
       " 'data/output/val/images/0_115.png',\n",
       " 'data/output/val/images/6_20.png',\n",
       " 'data/output/val/images/5_117.png']"
      ]
     },
     "execution_count": 4,
     "metadata": {},
     "output_type": "execute_result"
    }
   ],
   "source": [
    "img_paths = glob.glob(\"data/output/val/images/*.png\")\n",
    "img_paths[:5]"
   ]
  },
  {
   "cell_type": "code",
   "execution_count": 8,
   "metadata": {},
   "outputs": [],
   "source": [
    "def getXY(xy):\n",
    "    plates = xy[xy['name'].str.contains(\"Plate\")]\n",
    "    if(len(plates) > 0):\n",
    "        plates = plates.reset_index()\n",
    "        plates[\"xCenter\"] = plates['xmin'] + plates['xmax'] / 2\n",
    "        plates[\"yCenter\"] = plates['ymin'] + plates['ymax'] / 2\n",
    "        plates[\"width\"] = plates['xmax'] - plates['xmin']\n",
    "        plates[\"height\"] = plates['ymax'] - plates['ymin']\n",
    "        return [bbox for bbox in plates.apply(lambda x: BoundingBox(*x[['xCenter', 'yCenter', 'width', 'height']]), axis=1)]\n",
    "    else:\n",
    "        return None"
   ]
  },
  {
   "cell_type": "code",
   "execution_count": 9,
   "metadata": {},
   "outputs": [
    {
     "data": {
      "text/plain": [
       "[Center: (399.1624450683594px, 189.15540313720703px)\n",
       "       \tWidth: 41.681640625px\n",
       "         Height: 36.69276428222656px\n",
       "         Initalized at: 05/04/2023 17:26:17:165,\n",
       " Center: (305.9253234863281px, 189.3949203491211px)\n",
       "       \tWidth: 16.13787841796875px\n",
       "         Height: 30.336288452148438px\n",
       "         Initalized at: 05/04/2023 17:26:17:166]"
      ]
     },
     "execution_count": 9,
     "metadata": {},
     "output_type": "execute_result"
    }
   ],
   "source": [
    "bboxes = getXY(model(img_paths[1], size=640).pandas().xyxy[0])\n",
    "bboxes"
   ]
  },
  {
   "cell_type": "code",
   "execution_count": 18,
   "metadata": {},
   "outputs": [
    {
     "name": "stderr",
     "output_type": "stream",
     "text": [
      "[ WARN:0@240.613] global /croot/opencv-suite_1676452025216/work/modules/videoio/src/cap_gstreamer.cpp (862) isPipelinePlaying OpenCV | GStreamer warning: GStreamer: pipeline have not been created\n"
     ]
    },
    {
     "data": {
      "text/plain": [
       "False"
      ]
     },
     "execution_count": 18,
     "metadata": {},
     "output_type": "execute_result"
    },
    {
     "name": "stderr",
     "output_type": "stream",
     "text": [
      "[ WARN:0@240.613] global /croot/opencv-suite_1676452025216/work/modules/videoio/src/cap_v4l.cpp (902) open VIDEOIO(V4L2:/dev/video0): can't open camera by index\n"
     ]
    }
   ],
   "source": [
    "cam_feed = cv2.VideoCapture(0)\n",
    "cam_feed.set(cv2.CAP_PROP_FRAME_WIDTH, 640)\n",
    "cam_feed.set(cv2.CAP_PROP_FRAME_HEIGHT, 750)"
   ]
  },
  {
   "cell_type": "code",
   "execution_count": 23,
   "metadata": {},
   "outputs": [
    {
     "ename": "error",
     "evalue": "OpenCV(4.6.0) /croot/opencv-suite_1676452025216/work/modules/imgproc/src/color.cpp:182: error: (-215:Assertion failed) !_src.empty() in function 'cvtColor'\n",
     "output_type": "error",
     "traceback": [
      "\u001b[0;31m---------------------------------------------------------------------------\u001b[0m",
      "\u001b[0;31merror\u001b[0m                                     Traceback (most recent call last)",
      "Cell \u001b[0;32mIn[23], line 4\u001b[0m\n\u001b[1;32m      1\u001b[0m \u001b[39mwhile\u001b[39;00m \u001b[39mTrue\u001b[39;00m:\n\u001b[1;32m      2\u001b[0m     \u001b[39m# yolo detection\u001b[39;00m\n\u001b[1;32m      3\u001b[0m     ret, img \u001b[39m=\u001b[39m cam_feed\u001b[39m.\u001b[39mread()   \n\u001b[0;32m----> 4\u001b[0m     pred \u001b[39m=\u001b[39m model(cv2\u001b[39m.\u001b[39;49mcvtColor(img, cv2\u001b[39m.\u001b[39;49mCOLOR_BGR2RGB), size\u001b[39m=\u001b[39m\u001b[39m640\u001b[39m)\n\u001b[1;32m      7\u001b[0m     output_img \u001b[39m=\u001b[39m pred\u001b[39m.\u001b[39mrender()[\u001b[39m0\u001b[39m]\n\u001b[1;32m      8\u001b[0m     \u001b[39m# Kalman filter prediction\u001b[39;00m\n",
      "\u001b[0;31merror\u001b[0m: OpenCV(4.6.0) /croot/opencv-suite_1676452025216/work/modules/imgproc/src/color.cpp:182: error: (-215:Assertion failed) !_src.empty() in function 'cvtColor'\n"
     ]
    }
   ],
   "source": [
    "while True:\n",
    "    # yolo detection\n",
    "    ret, img = cam_feed.read()   \n",
    "    pred = model(cv2.cvtColor(img, cv2.COLOR_BGR2RGB), size=640)\n",
    "\n",
    "\n",
    "    output_img = pred.render()[0]\n",
    "    # Kalman filter prediction\n",
    "    plate_loc = getXY(pred.pandas().xyxy[0])\n",
    "    if(plate_loc is not None):\n",
    "        x, y = plate_loc\n",
    "\n",
    "        # xpred, ypred = kf.predict(x, y)\n",
    "\n",
    "        # draw the circle\n",
    "        # cv2.circle(output_img, [int(xpred), int(ypred)], 10, color=(0, 165, 255), thickness=3)\n",
    "        \n",
    "    # display the frame\n",
    "    cv2.imshow(\"\", cv2.cvtColor(output_img, cv2.COLOR_RGB2BGR))     \n",
    "    \n",
    "    if (cv2.waitKey(1) & 0xFF == ord(\"q\")) or (cv2.waitKey(1)==27):\n",
    "        break\n"
   ]
  }
 ],
 "metadata": {
  "kernelspec": {
   "display_name": "Python 3",
   "language": "python",
   "name": "python3"
  },
  "language_info": {
   "codemirror_mode": {
    "name": "ipython",
    "version": 3
   },
   "file_extension": ".py",
   "mimetype": "text/x-python",
   "name": "python",
   "nbconvert_exporter": "python",
   "pygments_lexer": "ipython3",
   "version": "3.10.10"
  },
  "orig_nbformat": 4
 },
 "nbformat": 4,
 "nbformat_minor": 2
}
