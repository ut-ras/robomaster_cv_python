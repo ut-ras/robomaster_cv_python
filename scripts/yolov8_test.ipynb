{
 "cells": [
  {
   "cell_type": "code",
   "execution_count": 2,
   "metadata": {},
   "outputs": [],
   "source": [
    "from ultralytics import YOLO\n",
    "import os\n",
    "os.environ[\"CUDA_VISIBLE_DEVICES\"]=\"7\""
   ]
  },
  {
   "cell_type": "code",
   "execution_count": 19,
   "metadata": {},
   "outputs": [
    {
     "name": "stderr",
     "output_type": "stream",
     "text": [
      "PRO TIP 💡 Replace 'model=../yolov8/yolov5l.pt' with new 'model=../yolov8/yolov5lu.pt'.\n",
      "YOLOv5 'u' models are trained with https://github.com/ultralytics/ultralytics and feature improved performance vs standard YOLOv5 models trained with https://github.com/ultralytics/yolov5.\n",
      "\n"
     ]
    }
   ],
   "source": [
    "model = YOLO(\"../yolov8/yolov5l.pt\")"
   ]
  },
  {
   "cell_type": "code",
   "execution_count": 17,
   "metadata": {},
   "outputs": [],
   "source": [
    "model = YOLO(\"../yolov8/yolov8n.pt\")"
   ]
  },
  {
   "cell_type": "code",
   "execution_count": 20,
   "metadata": {},
   "outputs": [
    {
     "name": "stderr",
     "output_type": "stream",
     "text": [
      "Ultralytics YOLOv8.0.57 🚀 Python-3.10.10 torch-2.0.0+cu117 CUDA:0 (NVIDIA A40, 45494MiB)\n",
      "\u001b[34m\u001b[1myolo/engine/trainer: \u001b[0mtask=detect, mode=train, model=../yolov8/yolov5l.pt, data=../data/output/plates.yaml, epochs=3, patience=50, batch=16, imgsz=640, save=True, save_period=-1, cache=False, device=None, workers=8, project=None, name=None, exist_ok=False, pretrained=False, optimizer=SGD, verbose=True, seed=0, deterministic=True, single_cls=False, image_weights=False, rect=False, cos_lr=False, close_mosaic=10, resume=False, amp=True, overlap_mask=True, mask_ratio=4, dropout=0.0, val=True, split=val, save_json=False, save_hybrid=False, conf=None, iou=0.7, max_det=300, half=False, dnn=False, plots=True, source=None, show=False, save_txt=False, save_conf=False, save_crop=False, hide_labels=False, hide_conf=False, vid_stride=1, line_thickness=3, visualize=False, augment=False, agnostic_nms=False, classes=None, retina_masks=False, boxes=True, format=torchscript, keras=False, optimize=False, int8=False, dynamic=False, simplify=False, opset=None, workspace=4, nms=False, lr0=0.01, lrf=0.01, momentum=0.937, weight_decay=0.0005, warmup_epochs=3.0, warmup_momentum=0.8, warmup_bias_lr=0.1, box=7.5, cls=0.5, dfl=1.5, fl_gamma=0.0, label_smoothing=0.0, nbs=64, hsv_h=0.015, hsv_s=0.7, hsv_v=0.4, degrees=0.0, translate=0.1, scale=0.5, shear=0.0, perspective=0.0, flipud=0.0, fliplr=0.5, mosaic=1.0, mixup=0.0, copy_paste=0.0, cfg=None, v5loader=False, tracker=botsort.yaml, save_dir=runs/detect/train11\n",
      "Overriding model.yaml nc=80 with nc=4\n",
      "\n",
      "                   from  n    params  module                                       arguments                     \n",
      "  0                  -1  1      7040  ultralytics.nn.modules.Conv                  [3, 64, 6, 2, 2]              \n",
      "  1                  -1  1     73984  ultralytics.nn.modules.Conv                  [64, 128, 3, 2]               \n",
      "  2                  -1  3    156928  ultralytics.nn.modules.C3                    [128, 128, 3]                 \n",
      "  3                  -1  1    295424  ultralytics.nn.modules.Conv                  [128, 256, 3, 2]              \n",
      "  4                  -1  6   1118208  ultralytics.nn.modules.C3                    [256, 256, 6]                 \n",
      "  5                  -1  1   1180672  ultralytics.nn.modules.Conv                  [256, 512, 3, 2]              \n",
      "  6                  -1  9   6433792  ultralytics.nn.modules.C3                    [512, 512, 9]                 \n",
      "  7                  -1  1   4720640  ultralytics.nn.modules.Conv                  [512, 1024, 3, 2]             \n",
      "  8                  -1  3   9971712  ultralytics.nn.modules.C3                    [1024, 1024, 3]               \n",
      "  9                  -1  1   2624512  ultralytics.nn.modules.SPPF                  [1024, 1024, 5]               \n",
      " 10                  -1  1    525312  ultralytics.nn.modules.Conv                  [1024, 512, 1, 1]             \n",
      " 11                  -1  1         0  torch.nn.modules.upsampling.Upsample         [None, 2, 'nearest']          \n",
      " 12             [-1, 6]  1         0  ultralytics.nn.modules.Concat                [1]                           \n",
      " 13                  -1  3   2757632  ultralytics.nn.modules.C3                    [1024, 512, 3, False]         \n",
      " 14                  -1  1    131584  ultralytics.nn.modules.Conv                  [512, 256, 1, 1]              \n",
      " 15                  -1  1         0  torch.nn.modules.upsampling.Upsample         [None, 2, 'nearest']          \n",
      " 16             [-1, 4]  1         0  ultralytics.nn.modules.Concat                [1]                           \n",
      " 17                  -1  3    690688  ultralytics.nn.modules.C3                    [512, 256, 3, False]          \n",
      " 18                  -1  1    590336  ultralytics.nn.modules.Conv                  [256, 256, 3, 2]              \n",
      " 19            [-1, 14]  1         0  ultralytics.nn.modules.Concat                [1]                           \n",
      " 20                  -1  3   2495488  ultralytics.nn.modules.C3                    [512, 512, 3, False]          \n",
      " 21                  -1  1   2360320  ultralytics.nn.modules.Conv                  [512, 512, 3, 2]              \n",
      " 22            [-1, 10]  1         0  ultralytics.nn.modules.Concat                [1]                           \n",
      " 23                  -1  3   9971712  ultralytics.nn.modules.C3                    [1024, 1024, 3, False]        \n",
      " 24        [17, 20, 23]  1   7060444  ultralytics.nn.modules.Detect                [4, [256, 512, 1024]]         \n",
      "YOLOv5l summary: 416 layers, 53166428 parameters, 53166412 gradients, 135.3 GFLOPs\n",
      "\n",
      "Transferred 685/691 items from pretrained weights\n",
      "\u001b[34m\u001b[1mAMP: \u001b[0mrunning Automatic Mixed Precision (AMP) checks with YOLOv8n...\n",
      "\u001b[34m\u001b[1mAMP: \u001b[0mchecks passed ✅\n",
      "\u001b[34m\u001b[1moptimizer:\u001b[0m SGD(lr=0.01) with parameter groups 113 weight(decay=0.0), 120 weight(decay=0.0005), 119 bias\n",
      "\u001b[34m\u001b[1mtrain: \u001b[0mScanning /var/local/dy4652/RoboMasters/robomaster_CV/data/output/train/labels.cache... 22840 images, 3 backgrounds, 0 corrupt: 100%|██████████| 22840/22840 [00:00<?, ?it/s]\n",
      "\u001b[34m\u001b[1mval: \u001b[0mScanning /var/local/dy4652/RoboMasters/robomaster_CV/data/output/val/labels.cache... 2850 images, 0 backgrounds, 0 corrupt: 100%|██████████| 2850/2850 [00:00<?, ?it/s]\n",
      "Plotting labels to runs/detect/train11/labels.jpg... \n",
      "Image sizes 640 train, 640 val\n",
      "Using 8 dataloader workers\n",
      "Logging results to \u001b[1mruns/detect/train11\u001b[0m\n",
      "Starting training for 3 epochs...\n",
      "\n",
      "      Epoch    GPU_mem   box_loss   cls_loss   dfl_loss  Instances       Size\n",
      "        1/3      10.4G      1.459     0.9903      1.051         53        640: 100%|██████████| 1428/1428 [05:47<00:00,  4.11it/s]\n",
      "                 Class     Images  Instances      Box(P          R      mAP50  mAP50-95): 100%|██████████| 90/90 [00:22<00:00,  3.98it/s]\n",
      "                   all       2850      13330      0.928      0.903      0.928      0.573\n",
      "\n",
      "      Epoch    GPU_mem   box_loss   cls_loss   dfl_loss  Instances       Size\n",
      "        2/3      10.8G        1.2      0.566     0.9331         78        640: 100%|██████████| 1428/1428 [05:33<00:00,  4.28it/s]\n",
      "                 Class     Images  Instances      Box(P          R      mAP50  mAP50-95): 100%|██████████| 90/90 [00:20<00:00,  4.35it/s]\n",
      "                   all       2850      13330       0.94      0.905      0.933      0.567\n",
      "\n",
      "      Epoch    GPU_mem   box_loss   cls_loss   dfl_loss  Instances       Size\n",
      "        3/3      10.8G      1.112     0.5136     0.9083         61        640: 100%|██████████| 1428/1428 [05:26<00:00,  4.37it/s]\n",
      "                 Class     Images  Instances      Box(P          R      mAP50  mAP50-95): 100%|██████████| 90/90 [00:26<00:00,  3.34it/s]\n",
      "                   all       2850      13330      0.913      0.921      0.937      0.598\n",
      "\n",
      "3 epochs completed in 0.302 hours.\n",
      "Optimizer stripped from runs/detect/train11/weights/last.pt, 106.8MB\n",
      "Optimizer stripped from runs/detect/train11/weights/best.pt, 106.8MB\n",
      "\n",
      "Validating runs/detect/train11/weights/best.pt...\n",
      "Ultralytics YOLOv8.0.57 🚀 Python-3.10.10 torch-2.0.0+cu117 CUDA:0 (NVIDIA A40, 45494MiB)\n",
      "YOLOv5l summary (fused): 303 layers, 53134492 parameters, 0 gradients, 134.7 GFLOPs\n",
      "                 Class     Images  Instances      Box(P          R      mAP50  mAP50-95): 100%|██████████| 90/90 [00:26<00:00,  3.41it/s]\n",
      "                   all       2850      13330      0.914       0.92      0.938      0.598\n",
      "             Red Light       2850       4060      0.867      0.818      0.853      0.372\n",
      "            Blue Light       2850       4530       0.89      0.894      0.928      0.507\n",
      "            Blue Plate       2850       2530      0.925      0.972      0.977      0.736\n",
      "             Red Plate       2850       2210      0.973      0.995      0.992      0.776\n",
      "Speed: 0.1ms preprocess, 2.3ms inference, 0.0ms loss, 0.7ms postprocess per image\n",
      "Results saved to \u001b[1mruns/detect/train11\u001b[0m\n"
     ]
    }
   ],
   "source": [
    "model.train(data=\"../data/output/plates.yaml\", epochs=3, imgsz=640, batch=16)"
   ]
  },
  {
   "cell_type": "code",
   "execution_count": 24,
   "metadata": {},
   "outputs": [],
   "source": [
    "model = YOLO(\"./runs/detect/train5/weights/best.pt\")"
   ]
  },
  {
   "cell_type": "code",
   "execution_count": 25,
   "metadata": {},
   "outputs": [
    {
     "name": "stderr",
     "output_type": "stream",
     "text": [
      "Ultralytics YOLOv8.0.57 🚀 Python-3.10.10 torch-2.0.0+cu117 CUDA:0 (NVIDIA A40, 45494MiB)\n",
      "Model summary (fused): 268 layers, 68127420 parameters, 0 gradients, 257.4 GFLOPs\n",
      "\u001b[34m\u001b[1mval: \u001b[0mScanning /var/local/dy4652/RoboMasters/robomaster_CV/data/output/val/labels.cache... 2850 images, 0 backgrounds, 0 corrupt: 100%|██████████| 2850/2850 [00:00<?, ?it/s]\n",
      "                 Class     Images  Instances      Box(P          R      mAP50  mAP50-95): 100%|██████████| 179/179 [00:38<00:00,  4.60it/s]\n",
      "                   all       2850      13330      0.913      0.897       0.93      0.573\n",
      "             Red Light       2850       4060      0.869      0.783      0.849      0.367\n",
      "            Blue Light       2850       4530      0.894      0.841      0.902      0.448\n",
      "            Blue Plate       2850       2530      0.925      0.972      0.975      0.711\n",
      "             Red Plate       2850       2210      0.965      0.991      0.993      0.767\n",
      "Speed: 0.1ms preprocess, 7.8ms inference, 0.0ms loss, 0.8ms postprocess per image\n",
      "Results saved to \u001b[1mruns/detect/val7\u001b[0m\n"
     ]
    }
   ],
   "source": [
    "metrics = model.val()"
   ]
  }
 ],
 "metadata": {
  "kernelspec": {
   "display_name": "Python 3",
   "language": "python",
   "name": "python3"
  },
  "language_info": {
   "codemirror_mode": {
    "name": "ipython",
    "version": 3
   },
   "file_extension": ".py",
   "mimetype": "text/x-python",
   "name": "python",
   "nbconvert_exporter": "python",
   "pygments_lexer": "ipython3",
   "version": "3.10.10"
  },
  "orig_nbformat": 4
 },
 "nbformat": 4,
 "nbformat_minor": 2
}
